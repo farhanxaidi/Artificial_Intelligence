{
 "cells": [
  {
   "cell_type": "code",
   "execution_count": 1,
   "id": "c4da2504",
   "metadata": {},
   "outputs": [],
   "source": [
    "import os \n",
    "folderpath =r\"C:\\Users\\Dell\\article\" \n",
    "filepaths= [os.path.join (folderpath, name) for name in os.listdir(folderpath) ] \n",
    "all_files = [ ]\n",
    "for path in filepaths : \n",
    "        with open (path, 'r', encoding=\"ISO-8859-1\") as f:\n",
    "                file = f.readlines () \n",
    "                all_files. append (file)\n",
    "                all_files"
   ]
  },
  {
   "cell_type": "code",
   "execution_count": 2,
   "id": "0fba7b1f",
   "metadata": {},
   "outputs": [
    {
     "data": {
      "text/plain": [
       "[['Artificial Intelligence Project\\n',\n",
       "  'We are going to classify data written in a file. To perform this task, we need to perform the following steps:\\n',\n",
       "  '1.\\tRead data from file (Make your own file including text data)\\n',\n",
       "  '2.\\tRemove stop words and symbols from it\\n',\n",
       "  '3.\\tImplement k-means clustering\\n',\n",
       "  'You can use any library or build-in function in the project but can be able to answer about that during viva.\\n',\n",
       "  'Deadline: Viva will be in the last lab (lab before Eid). If a student give viva in next week lab, he or she will get 2 absolute marks in the project.\\n',\n",
       "  'Note: You can do the project either individually or in the group of 2\\n']]"
      ]
     },
     "execution_count": 2,
     "metadata": {},
     "output_type": "execute_result"
    }
   ],
   "source": [
    "all_files"
   ]
  },
  {
   "cell_type": "code",
   "execution_count": 3,
   "id": "44eba59a",
   "metadata": {},
   "outputs": [
    {
     "name": "stdout",
     "output_type": "stream",
     "text": [
      "1\n"
     ]
    }
   ],
   "source": [
    "size = len(all_files)\n",
    "print(size)"
   ]
  },
  {
   "cell_type": "code",
   "execution_count": 4,
   "id": "01dc226c",
   "metadata": {},
   "outputs": [
    {
     "data": {
      "text/plain": [
       "\"['Artificial Intelligence Project\\\\n', 'We are going to classify data written in a file. To perform this task, we need to perform the following steps:\\\\n', '1.\\\\tRead data from file (Make your own file including text data)\\\\n', '2.\\\\tRemove stop words and symbols from it\\\\n', '3.\\\\tImplement k-means clustering\\\\n', 'You can use any library or build-in function in the project but can be able to answer about that during viva.\\\\n', 'Deadline: Viva will be in the last lab (lab before Eid). If a student give viva in next week lab, he or she will get 2 absolute marks in the project.\\\\n', 'Note: You can do the project either individually or in the group of 2\\\\n']\""
      ]
     },
     "execution_count": 4,
     "metadata": {},
     "output_type": "execute_result"
    }
   ],
   "source": [
    "listToStr= ' '.join(map(str,all_files))\n",
    "listToStr"
   ]
  },
  {
   "cell_type": "code",
   "execution_count": 5,
   "id": "789e1354",
   "metadata": {},
   "outputs": [
    {
     "name": "stdout",
     "output_type": "stream",
     "text": [
      "Requirement already satisfied: nltk in c:\\users\\dell\\anaconda3\\lib\\site-packages (3.6.5)\n",
      "Requirement already satisfied: click in c:\\users\\dell\\anaconda3\\lib\\site-packages (from nltk) (8.0.3)\n",
      "Requirement already satisfied: joblib in c:\\users\\dell\\anaconda3\\lib\\site-packages (from nltk) (1.1.0)\n",
      "Requirement already satisfied: regex>=2021.8.3 in c:\\users\\dell\\anaconda3\\lib\\site-packages (from nltk) (2021.8.3)\n",
      "Requirement already satisfied: tqdm in c:\\users\\dell\\anaconda3\\lib\\site-packages (from nltk) (4.62.3)\n",
      "Requirement already satisfied: colorama in c:\\users\\dell\\anaconda3\\lib\\site-packages (from click->nltk) (0.4.4)\n",
      "Note: you may need to restart the kernel to use updated packages.\n"
     ]
    }
   ],
   "source": [
    "%pip install nltk"
   ]
  },
  {
   "cell_type": "code",
   "execution_count": 6,
   "id": "e4af161e",
   "metadata": {},
   "outputs": [],
   "source": [
    "import nltk \n",
    "from nltk.corpus import stopwords "
   ]
  },
  {
   "cell_type": "code",
   "execution_count": 7,
   "id": "f6c17ce9",
   "metadata": {},
   "outputs": [
    {
     "name": "stderr",
     "output_type": "stream",
     "text": [
      "[nltk_data] Downloading package stopwords to\n",
      "[nltk_data]     C:\\Users\\Dell\\AppData\\Roaming\\nltk_data...\n",
      "[nltk_data]   Package stopwords is already up-to-date!\n",
      "[nltk_data] Downloading package punkt to\n",
      "[nltk_data]     C:\\Users\\Dell\\AppData\\Roaming\\nltk_data...\n",
      "[nltk_data]   Package punkt is already up-to-date!\n"
     ]
    },
    {
     "data": {
      "text/plain": [
       "True"
      ]
     },
     "execution_count": 7,
     "metadata": {},
     "output_type": "execute_result"
    }
   ],
   "source": [
    "nltk.download('stopwords')\n",
    "nltk.download('punkt')"
   ]
  },
  {
   "cell_type": "code",
   "execution_count": 8,
   "id": "7bdae0d4",
   "metadata": {},
   "outputs": [],
   "source": [
    "from nltk.tokenize import word_tokenize \n",
    "text = word_tokenize (listToStr)"
   ]
  },
  {
   "cell_type": "code",
   "execution_count": 9,
   "id": "ac2fdc22",
   "metadata": {},
   "outputs": [],
   "source": [
    "data = [word for word in text if not word in stopwords.words()]\n"
   ]
  },
  {
   "cell_type": "code",
   "execution_count": 10,
   "id": "552fe744",
   "metadata": {},
   "outputs": [
    {
     "data": {
      "text/plain": [
       "['[',\n",
       " \"'Artificial\",\n",
       " 'Intelligence',\n",
       " 'Project\\\\n',\n",
       " \"'\",\n",
       " ',',\n",
       " \"'We\",\n",
       " 'going',\n",
       " 'classify',\n",
       " 'data',\n",
       " 'written',\n",
       " 'file',\n",
       " '.',\n",
       " 'To',\n",
       " 'perform',\n",
       " 'task',\n",
       " ',',\n",
       " 'need',\n",
       " 'perform',\n",
       " 'following',\n",
       " 'steps',\n",
       " ':',\n",
       " '\\\\n',\n",
       " \"'\",\n",
       " ',',\n",
       " \"'\",\n",
       " '1.\\\\tRead',\n",
       " 'data',\n",
       " 'file',\n",
       " '(',\n",
       " 'Make',\n",
       " 'file',\n",
       " 'including',\n",
       " 'text',\n",
       " 'data',\n",
       " ')',\n",
       " '\\\\n',\n",
       " \"'\",\n",
       " ',',\n",
       " \"'\",\n",
       " '2.\\\\tRemove',\n",
       " 'stop',\n",
       " 'words',\n",
       " 'symbols',\n",
       " 'it\\\\n',\n",
       " \"'\",\n",
       " ',',\n",
       " \"'\",\n",
       " '3.\\\\tImplement',\n",
       " 'k-means',\n",
       " 'clustering\\\\n',\n",
       " \"'\",\n",
       " ',',\n",
       " \"'You\",\n",
       " 'use',\n",
       " 'library',\n",
       " 'build-in',\n",
       " 'function',\n",
       " 'project',\n",
       " 'able',\n",
       " 'answer',\n",
       " 'viva.\\\\n',\n",
       " \"'\",\n",
       " ',',\n",
       " \"'Deadline\",\n",
       " ':',\n",
       " 'Viva',\n",
       " 'last',\n",
       " 'lab',\n",
       " '(',\n",
       " 'lab',\n",
       " 'Eid',\n",
       " ')',\n",
       " '.',\n",
       " 'If',\n",
       " 'student',\n",
       " 'give',\n",
       " 'viva',\n",
       " 'next',\n",
       " 'week',\n",
       " 'lab',\n",
       " ',',\n",
       " 'get',\n",
       " '2',\n",
       " 'absolute',\n",
       " 'marks',\n",
       " 'project.\\\\n',\n",
       " \"'\",\n",
       " ',',\n",
       " \"'Note\",\n",
       " ':',\n",
       " 'You',\n",
       " 'project',\n",
       " 'either',\n",
       " 'individually',\n",
       " 'group',\n",
       " '2\\\\n',\n",
       " \"'\",\n",
       " ']']"
      ]
     },
     "execution_count": 10,
     "metadata": {},
     "output_type": "execute_result"
    }
   ],
   "source": [
    "data"
   ]
  },
  {
   "cell_type": "code",
   "execution_count": 13,
   "id": "0ac344f5",
   "metadata": {},
   "outputs": [
    {
     "name": "stderr",
     "output_type": "stream",
     "text": [
      "[nltk_data] Downloading package wordnet to\n",
      "[nltk_data]     C:\\Users\\Dell\\AppData\\Roaming\\nltk_data...\n",
      "[nltk_data]   Unzipping corpora\\wordnet.zip.\n"
     ]
    },
    {
     "data": {
      "text/plain": [
       "True"
      ]
     },
     "execution_count": 13,
     "metadata": {},
     "output_type": "execute_result"
    }
   ],
   "source": [
    "import nltk\n",
    "nltk.download('wordnet')"
   ]
  },
  {
   "cell_type": "code",
   "execution_count": 14,
   "id": "8d759011",
   "metadata": {},
   "outputs": [
    {
     "name": "stdout",
     "output_type": "stream",
     "text": [
      "group\n"
     ]
    }
   ],
   "source": [
    "from nltk.stem import WordNetLemmatizer \n",
    "lemma= WordNetLemmatizer() \n",
    "lem=[ ]\n",
    "for r in data:\n",
    "       lem.append (lemma.lemmatize (r))\n",
    "print (lemma.lemmatize( 'group'))\n"
   ]
  },
  {
   "cell_type": "code",
   "execution_count": 15,
   "id": "72069697",
   "metadata": {},
   "outputs": [
    {
     "data": {
      "text/plain": [
       "['[',\n",
       " \"'Artificial\",\n",
       " 'Intelligence',\n",
       " 'Project\\\\n',\n",
       " \"'\",\n",
       " ',',\n",
       " \"'We\",\n",
       " 'going',\n",
       " 'classify',\n",
       " 'data',\n",
       " 'written',\n",
       " 'file',\n",
       " '.',\n",
       " 'To',\n",
       " 'perform',\n",
       " 'task',\n",
       " ',',\n",
       " 'need',\n",
       " 'perform',\n",
       " 'following',\n",
       " 'step',\n",
       " ':',\n",
       " '\\\\n',\n",
       " \"'\",\n",
       " ',',\n",
       " \"'\",\n",
       " '1.\\\\tRead',\n",
       " 'data',\n",
       " 'file',\n",
       " '(',\n",
       " 'Make',\n",
       " 'file',\n",
       " 'including',\n",
       " 'text',\n",
       " 'data',\n",
       " ')',\n",
       " '\\\\n',\n",
       " \"'\",\n",
       " ',',\n",
       " \"'\",\n",
       " '2.\\\\tRemove',\n",
       " 'stop',\n",
       " 'word',\n",
       " 'symbol',\n",
       " 'it\\\\n',\n",
       " \"'\",\n",
       " ',',\n",
       " \"'\",\n",
       " '3.\\\\tImplement',\n",
       " 'k-means',\n",
       " 'clustering\\\\n',\n",
       " \"'\",\n",
       " ',',\n",
       " \"'You\",\n",
       " 'use',\n",
       " 'library',\n",
       " 'build-in',\n",
       " 'function',\n",
       " 'project',\n",
       " 'able',\n",
       " 'answer',\n",
       " 'viva.\\\\n',\n",
       " \"'\",\n",
       " ',',\n",
       " \"'Deadline\",\n",
       " ':',\n",
       " 'Viva',\n",
       " 'last',\n",
       " 'lab',\n",
       " '(',\n",
       " 'lab',\n",
       " 'Eid',\n",
       " ')',\n",
       " '.',\n",
       " 'If',\n",
       " 'student',\n",
       " 'give',\n",
       " 'viva',\n",
       " 'next',\n",
       " 'week',\n",
       " 'lab',\n",
       " ',',\n",
       " 'get',\n",
       " '2',\n",
       " 'absolute',\n",
       " 'mark',\n",
       " 'project.\\\\n',\n",
       " \"'\",\n",
       " ',',\n",
       " \"'Note\",\n",
       " ':',\n",
       " 'You',\n",
       " 'project',\n",
       " 'either',\n",
       " 'individually',\n",
       " 'group',\n",
       " '2\\\\n',\n",
       " \"'\",\n",
       " ']']"
      ]
     },
     "execution_count": 15,
     "metadata": {},
     "output_type": "execute_result"
    }
   ],
   "source": [
    "import re \n",
    "dataupdate= [ ] \n",
    "dataupdate=[re.sub('[^a-zA-z0-9]+ ', '', _) for _ in lem] \n",
    "dataupdate"
   ]
  },
  {
   "cell_type": "code",
   "execution_count": 16,
   "id": "4403f690",
   "metadata": {},
   "outputs": [],
   "source": [
    "from sklearn.feature_extraction.text import TfidfVectorizer \n",
    "from sklearn.cluster import KMeans\n",
    "from sklearn.metrics import adjusted_rand_score\n",
    " # import warnings filter \n",
    "from warnings import simplefilter"
   ]
  },
  {
   "cell_type": "code",
   "execution_count": 20,
   "id": "ba57ef8f",
   "metadata": {},
   "outputs": [],
   "source": [
    " #ignore all future warnings\n",
    "simplefilter (action='ignore', category=FutureWarning)\n",
    "vectorizer = TfidfVectorizer(stop_words= 'english')\n",
    "X = vectorizer.fit_transform(dataupdate)"
   ]
  },
  {
   "cell_type": "code",
   "execution_count": 22,
   "id": "402c89c2",
   "metadata": {},
   "outputs": [
    {
     "name": "stdout",
     "output_type": "stream",
     "text": [
      "Top terms per cluster: \n",
      " \n",
      " \n",
      "Cluster 0:\n",
      " make\n",
      " \n",
      " library\n",
      " \n",
      " intelligence\n",
      " \n",
      " individually\n",
      " \n",
      " including\n",
      " \n",
      " group\n",
      " \n",
      " going\n",
      " \n",
      " function\n",
      " \n",
      " following\n",
      " \n",
      " file\n",
      " \n",
      " \n",
      "Cluster 1:\n",
      " lab\n",
      " \n",
      " viva\n",
      " \n",
      " data\n",
      " \n",
      " file\n",
      " \n",
      " perform\n",
      " \n",
      " following\n",
      " \n",
      " intelligence\n",
      " \n",
      " individually\n",
      " \n",
      " including\n",
      " \n",
      " group\n",
      " \n",
      " \n",
      "Cluster 2:\n",
      " project\n",
      " \n",
      " written\n",
      " \n",
      " file\n",
      " \n",
      " intelligence\n",
      " \n",
      " individually\n",
      " \n",
      " including\n",
      " \n",
      " group\n",
      " \n",
      " going\n",
      " \n",
      " function\n",
      " \n",
      " following\n",
      " \n",
      " \n",
      "Cluster 3:\n",
      " student\n",
      " \n",
      " written\n",
      " \n",
      " intelligence\n",
      " \n",
      " individually\n",
      " \n",
      " including\n",
      " \n",
      " group\n",
      " \n",
      " going\n",
      " \n",
      " function\n",
      " \n",
      " following\n",
      " \n",
      " file\n",
      " \n",
      " \n",
      "Cluster 4:\n",
      " artificial\n",
      " \n",
      " written\n",
      " \n",
      " file\n",
      " \n",
      " intelligence\n",
      " \n",
      " individually\n",
      " \n",
      " including\n",
      " \n",
      " group\n",
      " \n",
      " going\n",
      " \n",
      " function\n",
      " \n",
      " following\n",
      " \n"
     ]
    }
   ],
   "source": [
    "cluster = 5 \n",
    "model = KMeans (n_clusters=cluster, init= 'k-means++', max_iter=100, n_init=1) \n",
    "model.fit(X)\n",
    "print(\"Top terms per cluster: \")\n",
    "print(\" \")\n",
    "order_centroids = model.cluster_centers_.argsort() [:, ::-1] \n",
    "terms = vectorizer.get_feature_names()\n",
    "for i in range(cluster):\n",
    "    print(\" \")\n",
    "    print(\"Cluster %d:\" % i), \n",
    "    for ind in order_centroids[i, :10]:\n",
    "        print( ' %s' % terms[ind])\n",
    "        print(\" \")\n",
    "            "
   ]
  },
  {
   "cell_type": "code",
   "execution_count": 25,
   "id": "d065af5a",
   "metadata": {},
   "outputs": [
    {
     "name": "stdout",
     "output_type": "stream",
     "text": [
      "Searching the Word \n",
      "[1]\n",
      "[1]\n"
     ]
    }
   ],
   "source": [
    "print(\"Searching the Word \")\n",
    "Y = vectorizer.transform ( [\"group\"]) \n",
    "guessing= model.predict (Y)\n",
    "print (guessing)\n",
    "Y =vectorizer.transform ( [\"claim that this cetral aspect of anarchism is definitive is to sell anarchism short\"])\n",
    "guessing = model.predict (Y) \n",
    "print (guessing)"
   ]
  },
  {
   "cell_type": "code",
   "execution_count": null,
   "id": "04dda614",
   "metadata": {},
   "outputs": [],
   "source": []
  }
 ],
 "metadata": {
  "kernelspec": {
   "display_name": "Python 3 (ipykernel)",
   "language": "python",
   "name": "python3"
  },
  "language_info": {
   "codemirror_mode": {
    "name": "ipython",
    "version": 3
   },
   "file_extension": ".py",
   "mimetype": "text/x-python",
   "name": "python",
   "nbconvert_exporter": "python",
   "pygments_lexer": "ipython3",
   "version": "3.9.7"
  }
 },
 "nbformat": 4,
 "nbformat_minor": 5
}
