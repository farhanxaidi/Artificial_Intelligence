{
 "cells": [
  {
   "cell_type": "code",
   "execution_count": null,
   "metadata": {},
   "outputs": [],
   "source": [
    "#Best First Search Algorithm (Greedy Search) "
   ]
  },
  {
   "attachments": {
    "f23.png": {
     "image/png": "[encoded data removed]"
    }
   },
   "cell_type": "markdown",
   "metadata": {},
   "source": [
    "![f23.png](attachment:f23.png)"
   ]
  },
  {
   "cell_type": "code",
   "execution_count": 38,
   "metadata": {},
   "outputs": [
    {
     "name": "stdout",
     "output_type": "stream",
     "text": [
      "\n",
      "Queue =  [[[6], ['A-B', 2]], [[7], ['A-E', 3]]]\n",
      "\n",
      "Sorted Queue =  [[[6], ['A-B', 2]], [[7], ['A-E', 3]]]\n",
      "\n",
      "Queue =  [[[7], ['A-E', 3]], [[11], ['A-B-A', 4]], [[99], ['A-B-C', 3]], [[0], ['A-B-G', 11]]]\n",
      "\n",
      "Sorted Queue =  [[[0], ['A-B-G', 11]], [[7], ['A-E', 3]], [[11], ['A-B-A', 4]], [[99], ['A-B-C', 3]]]\n",
      "\n",
      "Goal Found!\n",
      "\n",
      "The Traversed Path is :  ['A', 'B', 'G']\n",
      "\n",
      "The Actual Path is [Path,Cost] -->  ['A-B-G', 11]\n"
     ]
    }
   ],
   "source": [
    "#Start node is A and goal node is G.\n",
    "Graph={\n",
    "    'A': [[11],['B',2],['E',3]],\n",
    "    'B': [[6],['A',2],['C',1],['G',9]],    \n",
    "    'C': [[99],['B',1]],\n",
    "    'D': [[1],['E',6],['G',1]],\n",
    "    'E': [[7],['A',3],['D',6]],\n",
    "    'G': [[0],['B',9],['D',1]]\n",
    "}\n",
    "\n",
    "def sort(queue):\n",
    "    for i in range(len(queue)):\n",
    "        for j in range(len(queue)):\n",
    "            if(queue[i][0][0]<queue[j][0][0]):\n",
    "                temp=queue[i]\n",
    "                queue[i]=queue[j]\n",
    "                queue[j]=temp\n",
    "    for i in range(len(queue)):\n",
    "        for j in range(len(queue)):\n",
    "            if(queue[i][0][0]==queue[j][0][0]):\n",
    "                if(queue[i][1][0][len(queue[i][1][0])-1]<queue[j][1][0][len(queue[j][1][0])-1]):\n",
    "                    temp=queue[i]\n",
    "                    queue[i]=queue[j]\n",
    "                    queue[j]=temp\n",
    "                \n",
    "def GreedyBestFirstSearch(Graph,Start):\n",
    "    queue=[Start]\n",
    "    path=[]\n",
    "    check=0\n",
    "    while queue:\n",
    "        vertex=queue.pop(0)\n",
    "        if vertex[1][0][len(vertex[1][0])-1] not in path:\n",
    "            path.append(vertex[1][0][len(vertex[1][0])-1])\n",
    "            for N in Graph[vertex[1][0][len(vertex[1][0])-1]]:\n",
    "                if(check>=1):\n",
    "                    temp=[Graph[N[0][0]][0],[vertex[1][0]+\"-\"+N[0],vertex[1][1]+N[1]]]\n",
    "                    if(vertex[1][0][len(vertex[1][0])-1]=='G'):\n",
    "                        print(\"\\nGoal Found!\\n\\nThe Traversed Path is : \",path)\n",
    "                        return vertex\n",
    "                    queue.append(temp)\n",
    "                check=check+1\n",
    "            check=0\n",
    "            print(\"\\nQueue = \",queue)\n",
    "            sort(queue)\n",
    "            print(\"\\nSorted Queue = \",queue)   \n",
    "    print(\"\\nThe Traversed Path is : \",path)\n",
    "    \n",
    "print(\"\\nThe Actual Path is [Path,Cost] --> \",GreedyBestFirstSearch(Graph,[[11],[\"A\",0]])[1])"
   ]
  },
  {
   "cell_type": "code",
   "execution_count": null,
   "metadata": {},
   "outputs": [],
   "source": []
  }
 ],
 "metadata": {
  "kernelspec": {
   "display_name": "Python 3",
   "language": "python",
   "name": "python3"
  },
  "language_info": {
   "codemirror_mode": {
    "name": "ipython",
    "version": 3
   },
   "file_extension": ".py",
   "mimetype": "text/x-python",
   "name": "python",
   "nbconvert_exporter": "python",
   "pygments_lexer": "ipython3",
   "version": "3.8.3"
  }
 },
 "nbformat": 4,
 "nbformat_minor": 4
}
